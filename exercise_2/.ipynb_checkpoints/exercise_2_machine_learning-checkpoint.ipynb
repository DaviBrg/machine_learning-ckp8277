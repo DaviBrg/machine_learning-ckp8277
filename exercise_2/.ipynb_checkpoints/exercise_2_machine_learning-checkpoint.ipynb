{
 "cells": [
  {
   "cell_type": "markdown",
   "metadata": {},
   "source": [
    "# Lista 2 - Aprendizagem Automática\n",
    "\n",
    "**Davi Braga Gomes - 0396905**\n",
    "\n",
    "## 1) Regressão Logística\n",
    "\n",
    "- Carregue os dados contidos no arquivo _ex1data1.txt_. O arquivo contem 97 linhas e 2 colunas de dados. Cada coluna se refere a uma variável. Neste problema, deve-se desenvolver um modelo onde a variável da coluna 2 será estimada a partir da variável da coluna 1.\n",
    "\n",
    "    - **Apresentar:** Figura com os dados.\n",
    "    - **Comentários**: Um modelo de regressão linear parece ser adequado para os dados em questão? Comente.\n",
    "    \n",
    "\n",
    "\n",
    "- Implemente o algoritmo do gradiente descendente estocástico para encontrar os coeficientes da regressão. Para este algoritmo utilize **α = 0.001** e utilize **1000 épocas** de treinamento. Para cada época de treinamento, calcule o erro quadrático médio (EQM) . Plote o gráfico “épocas x EQM”.\n",
    "\n",
    "    - **Apresentar**: Valor final dos coeficientes e gráfico épocas x EQM.\n",
    "    - **Comentários**: Através do gráfico “épocas x EQM” é possível verificar que o algoritmo está “aprendendo” ? Comente.\n",
    "\n"
   ]
  },
  {
   "cell_type": "markdown",
   "metadata": {},
   "source": [
    "### Carregando os dados do arquivo:"
   ]
  },
  {
   "cell_type": "code",
   "execution_count": 48,
   "metadata": {},
   "outputs": [
    {
     "name": "stdout",
     "output_type": "stream",
     "text": [
      "(30, 3)\n"
     ]
    }
   ],
   "source": [
    "import numpy as np\n",
    "\n",
    "def load_data(file_name, delimiter_):\n",
    "    return np.genfromtxt(file_name, delimiter = delimiter_)\n",
    "\n",
    "# def get_aproved(data):\n",
    "#     return data\n",
    "# def get_reproved()\n",
    "\n",
    "data = load_data('ex2data1.txt', ',')\n",
    "\n",
    "aproved_data = np.array([x for x in data[:,:] if x[-1] == 0])\n",
    "\n",
    "reproved_data = np.array([x for x in data[:,:] if x[-1] == 1])\n",
    "\n",
    "training = data[:70, :]\n",
    "test = data[70:, :]\n",
    "\n",
    "print np.shape(test)\n"
   ]
  },
  {
   "cell_type": "markdown",
   "metadata": {},
   "source": [
    "### Figura com os dados:"
   ]
  },
  {
   "cell_type": "code",
   "execution_count": 44,
   "metadata": {},
   "outputs": [
    {
     "data": {
      "image/png": "[encoded data removed]",
      "text/plain": [
       "<matplotlib.figure.Figure at 0x7f397275cad0>"
      ]
     },
     "metadata": {},
     "output_type": "display_data"
    }
   ],
   "source": [
    "import matplotlib.pyplot as plt\n",
    "\n",
    "plt.plot(aproved_data[:, 0], aproved_data[:, 1], 'o')\n",
    "plt.plot(reproved_data[:, 0], reproved_data[:, 1], 'o')\n",
    "plt.xlabel('Teste 1')\n",
    "plt.ylabel('Teste 2')\n",
    "plt.show()"
   ]
  },
  {
   "cell_type": "code",
   "execution_count": null,
   "metadata": {
    "collapsed": true
   },
   "outputs": [],
   "source": []
  },
  {
   "cell_type": "markdown",
   "metadata": {},
   "source": [
    "### Adequação ao modelo linear:\n",
    "\n",
    "O modelo de regressão linear parece adequado pois, ao observar o gráfico, é possível perceber que há uma considerável correlação positiva entre entre X e Y."
   ]
  },
  {
   "cell_type": "markdown",
   "metadata": {},
   "source": [
    "### Algoritmo do gradiente descendente estocástico e algumas funções auxiliares:"
   ]
  },
  {
   "cell_type": "code",
   "execution_count": 81,
   "metadata": {},
   "outputs": [
    {
     "data": {
      "text/plain": [
       "array([[ 1.,  1.,  1.],\n",
       "       [ 1.,  1.,  1.],\n",
       "       [ 1.,  1.,  1.],\n",
       "       [ 1.,  1.,  1.],\n",
       "       [ 1.,  1.,  1.],\n",
       "       [ 1.,  1.,  1.],\n",
       "       [ 1.,  1.,  1.],\n",
       "       [ 1.,  1.,  1.],\n",
       "       [ 1.,  1.,  1.],\n",
       "       [ 1.,  1.,  1.],\n",
       "       [ 1.,  1.,  1.],\n",
       "       [ 1.,  1.,  1.],\n",
       "       [ 1.,  1.,  1.],\n",
       "       [ 1.,  1.,  1.],\n",
       "       [ 1.,  1.,  1.],\n",
       "       [ 1.,  1.,  1.],\n",
       "       [ 1.,  1.,  1.],\n",
       "       [ 1.,  1.,  1.],\n",
       "       [ 1.,  1.,  1.],\n",
       "       [ 1.,  1.,  1.],\n",
       "       [ 1.,  1.,  1.],\n",
       "       [ 1.,  1.,  1.],\n",
       "       [ 1.,  1.,  1.],\n",
       "       [ 1.,  1.,  1.],\n",
       "       [ 1.,  1.,  1.],\n",
       "       [ 1.,  1.,  1.],\n",
       "       [ 1.,  1.,  1.],\n",
       "       [ 1.,  1.,  1.],\n",
       "       [ 1.,  1.,  1.],\n",
       "       [ 1.,  1.,  1.]])"
      ]
     },
     "execution_count": 81,
     "metadata": {},
     "output_type": "execute_result"
    }
   ],
   "source": [
    "\n",
    "def get_x(data):\n",
    "    X = data[:, :-1]\n",
    "    m = X.shape[0]\n",
    "    ones = np.ones((m, 1))\n",
    "    return np.concatenate((ones, X), axis = 1)\n",
    "\n",
    "def get_y(data):\n",
    "    y = data[:, -1]\n",
    "    y = np.array([y])\n",
    "    return y.T\n",
    "\n",
    "def sigmoid(x, w):\n",
    "    return 1/(np.exp(-(w.T*x)))\n",
    "\n",
    "def mqe(data, w):\n",
    "    X = get_x(data)\n",
    "    y = get_y(data)\n",
    "    m = X.shape[0]\n",
    "    return (1.0/(2.0*m))*np.sum((X.dot(w) - y)**2)\n",
    "\n",
    "def to_2d(w):\n",
    "    return np.reshape(w, (-1,1))\n",
    "\n",
    "def gradient_descent(data, alpha, n_epochs):\n",
    "    w = np.random.rand(data.shape[1], 1)\n",
    "    costs = []\n",
    "    for i in range(n_epochs):\n",
    "        np.random.shuffle(data)\n",
    "        for i in range(len(data)):\n",
    "            X = get_x(data)\n",
    "            Y = get_y(data)\n",
    "            error = (X[i].dot(w) - Y[i])\n",
    "            w = w - to_2d(alpha*error*X[i])\n",
    "        costs.append(mqe(data, w))\n",
    "    return (w,costs)\n",
    "\n",
    "# (w, costs) = gradient_descent(data, alpha=0.001, n_epochs=1000)\n",
    "sigmoid(get_x(test), np.array([[0],[0],[0]]))\n"
   ]
  },
  {
   "cell_type": "markdown",
   "metadata": {},
   "source": [
    "### Valores finais dos pesos:"
   ]
  },
  {
   "cell_type": "code",
   "execution_count": 4,
   "metadata": {},
   "outputs": [
    {
     "name": "stdout",
     "output_type": "stream",
     "text": [
      "[[-3.89268174]\n",
      " [ 1.2398915 ]]\n"
     ]
    }
   ],
   "source": [
    "print w"
   ]
  },
  {
   "cell_type": "markdown",
   "metadata": {},
   "source": [
    "### Gráfico “Epoca x EQM”:"
   ]
  },
  {
   "cell_type": "code",
   "execution_count": 5,
   "metadata": {},
   "outputs": [
    {
     "data": {
      "image/png": "[encoded data removed]",
      "text/plain": [
       "<matplotlib.figure.Figure at 0x7fae6a43cad0>"
      ]
     },
     "metadata": {},
     "output_type": "display_data"
    }
   ],
   "source": [
    "plt.plot(list(range(len(costs))), costs)\n",
    "plt.xlabel('Epoca')\n",
    "plt.ylabel('EQM')\n",
    "plt.show()"
   ]
  },
  {
   "cell_type": "markdown",
   "metadata": {},
   "source": [
    "O gráfico possui uma tendência decrescente e mostra que o erro quadrático médio estava acima de 8 na primeira época e que seu valor final ficou próximo de 4.5. Portanto, podemos concluir que, apesar de vários picos de piora decorrentes da natureza estocástica do algoritmo, houve sim aprendizado."
   ]
  },
  {
   "cell_type": "markdown",
   "metadata": {},
   "source": [
    "## 2) Regressão Linear Múltipla\n",
    "\n",
    "- Carregue os dados contidos no arquivo _ex1data2.txt_. O arquivo contem 47 linhas e 3 colunas de dados. Cada coluna se refere a uma variável. Neste problema, deve-se desenvolver um modelo onde a variável da coluna 3 será estimada a partir das variáveis das coluna 1 e 2. Os dados apresentados referem-se a um problema de estimação do preço de casas. As variáveis 1 e 2 são a área da casa e o número de quartos, respectivamente. A variável 3 é o preço do imóvel.\n",
    "- Implemente o algoritmo do gradiente descendente estocástico para encontrar os coeficientes da regressão. Para este algoritmo utilize **α = 0.01** e utilize **100 épocas**  de treinamento. Para cada época de treinamento, calcule o erro quadrático médio (EQM) . Plote o gráfico “épocas x EQM”.\n",
    "\n",
    "    - **Apresentar:** Valor final dos coeficientes e gráfico épocas x EQM.\n",
    "    - **Comentários**: Através do gráfico “épocas x EQM” é possível verificar que o algoritmo está “aprendendo” ? Comente.\n",
    "    \n",
    "\n",
    "\n",
    "- Encontre os coeficientes da regressão utilizando o método dos mínimos quadrados.\n",
    "\n",
    "    - **Apresentar**: Valor final dos coeficientes.\n",
    "    - **Comentários**: Os valores obtidos pelos dois métodos são iguais? Comente."
   ]
  },
  {
   "cell_type": "markdown",
   "metadata": {},
   "source": [
    "### Carregando os dados do arquivo:"
   ]
  },
  {
   "cell_type": "code",
   "execution_count": 6,
   "metadata": {
    "collapsed": true
   },
   "outputs": [],
   "source": [
    "data = load_data('ex1data2.txt', ' ')"
   ]
  },
  {
   "cell_type": "markdown",
   "metadata": {},
   "source": [
    "### Rodando o gradiente descendente estocástico:"
   ]
  },
  {
   "cell_type": "code",
   "execution_count": 7,
   "metadata": {
    "collapsed": true
   },
   "outputs": [],
   "source": [
    "(w, costs) = gradient_descent(data, alpha=0.01, n_epochs=100)"
   ]
  },
  {
   "cell_type": "markdown",
   "metadata": {},
   "source": [
    "### Valores finais dos pesos:"
   ]
  },
  {
   "cell_type": "code",
   "execution_count": 8,
   "metadata": {},
   "outputs": [
    {
     "name": "stdout",
     "output_type": "stream",
     "text": [
      "[[ 0.884733  ]\n",
      " [ 1.37623223]\n",
      " [-0.07758161]]\n"
     ]
    }
   ],
   "source": [
    "print w"
   ]
  },
  {
   "cell_type": "markdown",
   "metadata": {},
   "source": [
    "### Gráfico “Epoca x EQM”:"
   ]
  },
  {
   "cell_type": "code",
   "execution_count": 9,
   "metadata": {},
   "outputs": [
    {
     "data": {
      "image/png": "[encoded data removed]",
      "text/plain": [
       "<matplotlib.figure.Figure at 0x7fae6a3901d0>"
      ]
     },
     "metadata": {},
     "output_type": "display_data"
    }
   ],
   "source": [
    "plt.plot(list(range(len(costs))), costs)\n",
    "plt.xlabel('Epoca')\n",
    "plt.ylabel('EQM')\n",
    "plt.show()"
   ]
  },
  {
   "cell_type": "markdown",
   "metadata": {},
   "source": [
    "O gráfico possui uma tendência decrescente e mostra que o erro quadrático médio estava acima de 0.45 na primeira época e que seu valor final ficou próximo de 0.20. Portanto, podemos concluir que, apesar de vários picos de piora decorrentes da natureza estocástica do algoritmo, houve sim aprendizado."
   ]
  },
  {
   "cell_type": "markdown",
   "metadata": {
    "collapsed": true
   },
   "source": [
    "### Econtrando os coeficientes de regressão utilizando os mínimos quadrados:"
   ]
  },
  {
   "cell_type": "code",
   "execution_count": 10,
   "metadata": {},
   "outputs": [
    {
     "name": "stdout",
     "output_type": "stream",
     "text": [
      "[[ 0.8959791 ]\n",
      " [ 1.39210674]\n",
      " [-0.08738019]]\n"
     ]
    }
   ],
   "source": [
    "def min_squares(data):\n",
    "    X = get_x(data)\n",
    "    y = get_y(data)\n",
    "    return np.linalg.inv(X.T.dot(X)).dot(X.T.dot(y)) \n",
    "\n",
    "w_min_sqr = min_squares(data)\n",
    "\n",
    "print w_min_sqr"
   ]
  },
  {
   "cell_type": "markdown",
   "metadata": {},
   "source": [
    "### Comparação entre os resultados do gradiente descendente e dos mínimos quadrados:\n",
    "\n",
    "Os valores não são exatamente iguais, mas ficaram muito próximos. O valor obtido por meio do método dos mínimos quadrados é possivelmente mais preciso, pois a sua solução é analítica, muito embora erros númericos possam existir devido ao processo de inversão de matrizes. Outro fator que pode explicar essa diferença é o valor relativamente alto do alpha e um número relativamente baixo de épocas, ambos utilizados no gradiente descendente estocástico. "
   ]
  },
  {
   "cell_type": "markdown",
   "metadata": {},
   "source": [
    "## 3) Regularização\n",
    "\n",
    "- Carregue os dados contidos no arquivo _ex1data3.txt_. O arquivo contem 47 linhas e 6 colunas de dados. Cada coluna se refere a uma variável. Neste problema, deve-se desenvolver um modelo onde a variável da coluna 6 será estimada a partir das demais variáveis. Os dados apresentados referem-se a um problema de estimação do preço de casas. As variáveis 1, 2, 3, 4 e 5 são características dos imóveis e serão utilizadas como entrada do problema de regressão. A variável 6 é o preço do imóvel.\n",
    "- Divida o conjunto de dados entre treino e teste. Para este problema, os primeiros 30 dados serão utilizados para treino e o restante será usado para teste.\n",
    "- Encontre os coeficientes da regressão utilizando o método dos mínimos quadrados regularizado para os seguintes valores de λ = [0 1 2 3 4 5]. Utilize o conjunto de treinamento.\n",
    "\n",
    "    - **Apresentar:** Valores finais dos coeficientes\n",
    "    - **Comentários**: Quais variáveis parecem ser menos relevantes para a regressão?\n",
    "    \n",
    "    \n",
    "- Encontrar o valor do EQM para os dados de treinamento e de teste para cada um dos valores de λ.\n",
    "\n",
    "    - **Apresentar**: Dois gráficos. EQM x λ no conjunto de treinamento e EQM x λ no conjunto de teste\n",
    "    - **Comentários**: Como os valores dos coeficientes variam com λ? Explique o motivo. Comente o crescimento/decrescimento dos erros presente nas figuras EQM x λ."
   ]
  },
  {
   "cell_type": "markdown",
   "metadata": {},
   "source": [
    "### Apresentando os valores dos pesos finais para cada coeficiente:"
   ]
  },
  {
   "cell_type": "code",
   "execution_count": 11,
   "metadata": {},
   "outputs": [
    {
     "name": "stdout",
     "output_type": "stream",
     "text": [
      "Valores dos pesos para o coeficiente 0:\n",
      "[[ 0.79298919]\n",
      " [ 2.05650083]\n",
      " [ 0.12143939]\n",
      " [-1.16137913]\n",
      " [ 0.06272863]\n",
      " [-0.39110215]]\n",
      "Valores dos pesos para o coeficiente 1:\n",
      "[[ 0.21837683]\n",
      " [ 1.3391608 ]\n",
      " [ 0.22506765]\n",
      " [ 0.18015951]\n",
      " [ 0.04805731]\n",
      " [-0.24707489]]\n",
      "Valores dos pesos para o coeficiente 2:\n",
      "[[ 0.25816829]\n",
      " [ 1.16265734]\n",
      " [ 0.23054745]\n",
      " [ 0.24910813]\n",
      " [ 0.05703977]\n",
      " [-0.11526088]]\n",
      "Valores dos pesos para o coeficiente 3:\n",
      "[[ 0.31875043]\n",
      " [ 1.04932735]\n",
      " [ 0.23303931]\n",
      " [ 0.25988061]\n",
      " [ 0.06804293]\n",
      " [-0.03117398]]\n",
      "Valores dos pesos para o coeficiente 4:\n",
      "[[ 0.38166515]\n",
      " [ 0.96594175]\n",
      " [ 0.23441173]\n",
      " [ 0.25770665]\n",
      " [ 0.07853842]\n",
      " [ 0.0254692 ]]\n",
      "Valores dos pesos para o coeficiente 5:\n",
      "[[ 0.4438308 ]\n",
      " [ 0.90053465]\n",
      " [ 0.23490892]\n",
      " [ 0.25167386]\n",
      " [ 0.08786604]\n",
      " [ 0.06533369]]\n"
     ]
    }
   ],
   "source": [
    "def min_squares_regularized(data, reg_coef):\n",
    "    X = get_x(data)\n",
    "    y = get_y(data)\n",
    "    gram = X.T.dot(X)\n",
    "    identity = np.identity(len(gram))\n",
    "    identity[0,0] = 0\n",
    "    temp = gram + identity*reg_coef\n",
    "    return np.linalg.inv(temp).dot(X.T.dot(y)) \n",
    "\n",
    "data = load_data('ex1data3.txt', ' ')\n",
    "\n",
    "training = data[:30, :]\n",
    "test = data[30:, :]\n",
    "\n",
    "reg_coeficients = [0, 1, 2, 3, 4, 5]\n",
    "\n",
    "for coef in reg_coeficients:\n",
    "    print(\"Valores dos pesos para o coeficiente {}:\".format(coef))\n",
    "    print(min_squares_regularized(training, coef))"
   ]
  },
  {
   "cell_type": "markdown",
   "metadata": {
    "collapsed": true
   },
   "source": [
    "### Relevância das variáveis para a regressão:\n",
    "\n",
    "Analisando os pesos finais para a regressão com o coeficiente de regularização 5, é possível notar que as variáveis menos relevantes são as de número 5 e 4, pois os valores de ambas ficaram uma casa decimal abaixo dos valores das demais."
   ]
  },
  {
   "cell_type": "markdown",
   "metadata": {},
   "source": [
    "### Variação dos coeficientes com o  λ:\n",
    "Foi percebido que o valor dos pesos diminuia conforme o valor do coeficiente de regularização aumentava. Isso aconteceu porque o coeficiente de regularização serve como uma penalização para cada um dos pesos. Dessa forma, os pesos que mais contribuirem para a diminuição do erro serão menos penalizados e os pesos que menos contribuirem serão mais penalizados."
   ]
  },
  {
   "cell_type": "code",
   "execution_count": 12,
   "metadata": {
    "collapsed": true
   },
   "outputs": [],
   "source": [
    "mqe_training = []\n",
    "mqe_test = []\n",
    "\n",
    "for coef in reg_coeficients:\n",
    "    w = min_squares_regularized(training, coef)\n",
    "    mqe_training.append(mqe(training, w))\n",
    "    mqe_test.append(mqe(test, w))"
   ]
  },
  {
   "cell_type": "markdown",
   "metadata": {},
   "source": [
    "### Gráficos  EQM x λ para os conjuntos de treino e de teste:"
   ]
  },
  {
   "cell_type": "code",
   "execution_count": 13,
   "metadata": {},
   "outputs": [
    {
     "data": {
      "image/png": "[encoded data removed]",
      "text/plain": [
       "<matplotlib.figure.Figure at 0x7fae6a36a750>"
      ]
     },
     "metadata": {},
     "output_type": "display_data"
    }
   ],
   "source": [
    "import matplotlib.patches as mpatches\n",
    "\n",
    "training_plt, = plt.plot(reg_coeficients, mqe_training, color = 'r', label=\"Treino\")\n",
    "test_plt, = plt.plot(reg_coeficients, mqe_test, color = 'b', label=\"Teste\")\n",
    "first_legend = plt.legend(handles=[training_plt], loc=3)\n",
    "ax = plt.gca().add_artist(first_legend)\n",
    "plt.legend(handles=[test_plt], loc=2)\n",
    "plt.xlabel('Coeficiente')\n",
    "plt.ylabel('EQM')\n",
    "plt.show()"
   ]
  },
  {
   "cell_type": "markdown",
   "metadata": {},
   "source": [
    "### Crescimento/decrescimento dos erros presentes na figura EQM x λ:"
   ]
  },
  {
   "cell_type": "markdown",
   "metadata": {},
   "source": [
    "No gráfico acima vemos que o erro no conjunto de teste diminui e que o erro no conjunto de treinamento aumenta conforme o coeficiente de regularização aumenta. Isso acontece porque o modelo inicial com λ=0 sofreu overfitting em relação aos dados de treinamento. Porém, conforme o λ aumentado, esse overfitting diminui e o modelo passa a ter uma capacidade de generalização melhor, fazendo com que o erro no conjunto de teste diminua enquanto o erro no conjunto de treino aumenta."
   ]
  }
 ],
 "metadata": {
  "kernelspec": {
   "display_name": "Python 2",
   "language": "python",
   "name": "python2"
  },
  "language_info": {
   "codemirror_mode": {
    "name": "ipython",
    "version": 2
   },
   "file_extension": ".py",
   "mimetype": "text/x-python",
   "name": "python",
   "nbconvert_exporter": "python",
   "pygments_lexer": "ipython2",
   "version": "2.7.13"
  }
 },
 "nbformat": 4,
 "nbformat_minor": 2
}
