{
 "cells": [
  {
   "cell_type": "markdown",
   "metadata": {},
   "source": [
    "# Lista 4 - Aprendizagem Automática\n",
    "\n",
    "**Davi Braga Gomes - 0396905**\n",
    "\n",
    "Naive Bayes - Discriminante Quadrático Gaussiano\n",
    "    \n",
    "## 1)  Classifição utilizando Naive Bayes e DQG\n",
    "- Carregue os dados contidos no arquivo DadosLista4.mat. O arquivo contém uma matriz de dados e o rotulo associado a cada dado. A matriz de dados (Dados) é composta de 1500 linhas e 2 colunas. A matriz dos rótulos (y) apresenta os rótulos das classes. Nestes dados, existem 3 classes, sendo 500 exemplos de cada classe.\n",
    "\n",
    "- Divida aleatoriamente o conjunto de dados entre treino e teste. Para este problema, utilize 600 (200 de cada classe) dados para treino, 900 (300 de cada classe) dados para teste.\n",
    "\n",
    "- Implemente os seguintes classificadores: Naive Bayes e Discriminante Quadrático Gaussiano\n",
    "    \n",
    "    - **Apresentar**: As matrizes de confusão para os dois classificadores\n",
    "    - **Comentários**: Com base nos resultados, comente sobre a hipótese de cada uma das classes ser linearmente separávele.\n",
    "\n"
   ]
  },
  {
   "cell_type": "markdown",
   "metadata": {},
   "source": [
    "### Carregando os dados:"
   ]
  },
  {
   "cell_type": "code",
   "execution_count": 1,
   "metadata": {
    "collapsed": true
   },
   "outputs": [],
   "source": [
    "import scipy.io as sio\n",
    "import numpy as np\n",
    "\n",
    "\n",
    "def load_data():\n",
    "    mat_contents = sio.loadmat('DadosLista4.mat')\n",
    "    X = mat_contents['Dados']\n",
    "    T = mat_contents['y']\n",
    "    return (X, T)\n",
    "\n",
    "def filter_by_target(data, label):\n",
    "    return data[data[:,-1] == label]\n",
    "\n",
    "def split_train_test(data, split_value):\n",
    "    train = data[:split_value,:]\n",
    "    test = data[split_value:,:]\n",
    "    return train, test\n",
    "\n",
    "def split_x_t(data):\n",
    "    return data[:,:-1], data[:,-1]\n",
    "\n",
    "X, T = load_data()"
   ]
  },
  {
   "cell_type": "markdown",
   "metadata": {},
   "source": [
    "### Dividindo o conjunto em teste e treinamento:"
   ]
  },
  {
   "cell_type": "code",
   "execution_count": 2,
   "metadata": {
    "collapsed": true
   },
   "outputs": [],
   "source": [
    "XT = np.concatenate((X,T), axis=1)\n",
    "\n",
    "XT1 = filter_by_target(XT, 1)\n",
    "\n",
    "XT2 = filter_by_target(XT, 2)\n",
    "\n",
    "XT3 = filter_by_target(XT, 3)\n",
    "\n",
    "XT1_train, XT1_test = split_train_test(XT1, 200)\n",
    "XT2_train, XT2_test = split_train_test(XT2, 200)\n",
    "XT3_train, XT3_test = split_train_test(XT3, 200)\n",
    "\n",
    "XT_train = np.concatenate((XT1_train, XT2_train, XT3_train))\n",
    "XT_test = np.concatenate((XT1_test, XT2_test, XT3_test))\n",
    "\n",
    "X_train, T_train = split_x_t(XT_train)\n",
    "X_test, T_test = split_x_t(XT_test)"
   ]
  },
  {
   "cell_type": "markdown",
   "metadata": {},
   "source": [
    "### Rodando o Naive Bayes"
   ]
  },
  {
   "cell_type": "code",
   "execution_count": 3,
   "metadata": {
    "collapsed": true
   },
   "outputs": [],
   "source": [
    "from sklearn.naive_bayes import GaussianNB\n",
    "from sklearn.metrics import confusion_matrix\n",
    "\n",
    "nb_clf = GaussianNB()\n",
    "nb_clf.fit(X_train, T_train)\n",
    "\n",
    "predicted_nb = nb_clf.predict(X_test)"
   ]
  },
  {
   "cell_type": "markdown",
   "metadata": {},
   "source": [
    "### Calculando a matriz de confusão:"
   ]
  },
  {
   "cell_type": "code",
   "execution_count": 4,
   "metadata": {},
   "outputs": [
    {
     "name": "stdout",
     "output_type": "stream",
     "text": [
      "[[297   3   0]\n",
      " [ 34 266   0]\n",
      " [  1   0 299]]\n"
     ]
    }
   ],
   "source": [
    "print confusion_matrix(T_test, predicted_nb)"
   ]
  },
  {
   "cell_type": "markdown",
   "metadata": {},
   "source": [
    "### Rodando o Discriminante Quadrático"
   ]
  },
  {
   "cell_type": "code",
   "execution_count": 5,
   "metadata": {
    "collapsed": true
   },
   "outputs": [],
   "source": [
    "from sklearn.discriminant_analysis import QuadraticDiscriminantAnalysis\n",
    "\n",
    "qd_clf = QuadraticDiscriminantAnalysis()\n",
    "qd_clf.fit(X_train, T_train)\n",
    "\n",
    "predicted_qd = qd_clf.predict(X_test) "
   ]
  },
  {
   "cell_type": "markdown",
   "metadata": {},
   "source": [
    "### Calculando a matriz de confusão:"
   ]
  },
  {
   "cell_type": "code",
   "execution_count": 6,
   "metadata": {},
   "outputs": [
    {
     "name": "stdout",
     "output_type": "stream",
     "text": [
      "[[299   1   0]\n",
      " [ 36 263   1]\n",
      " [  0   0 300]]\n"
     ]
    }
   ],
   "source": [
    "print confusion_matrix(T_test, predicted_qd)"
   ]
  },
  {
   "cell_type": "markdown",
   "metadata": {},
   "source": [
    "### Análise da hipótese de linearidade:"
   ]
  },
  {
   "cell_type": "code",
   "execution_count": 7,
   "metadata": {},
   "outputs": [
    {
     "data": {
      "image/png": "[encoded data removed]",
      "text/plain": [
       "<matplotlib.figure.Figure at 0x7f4b537077d0>"
      ]
     },
     "metadata": {},
     "output_type": "display_data"
    }
   ],
   "source": [
    "import matplotlib.pyplot as plt\n",
    "import matplotlib.patches as mpatches\n",
    "\n",
    "X1, T1 = split_x_t(XT1)\n",
    "X2, T2 = split_x_t(XT2)\n",
    "X3, T3 = split_x_t(XT3)\n",
    "\n",
    "plt.scatter(X1[:,0], X1[:,1], s=10, c='r')\n",
    "plt.scatter(X2[:,0], X2[:,1], s=10, c='g')\n",
    "plt.scatter(X3[:,0], X3[:,1], s=10, c='b')\n",
    "\n",
    "leg_1 = mpatches.Patch(color='red', label='Classe 1')\n",
    "leg_2 = mpatches.Patch(color='green', label='Classe 2')\n",
    "leg_3 = mpatches.Patch(color='blue', label='Classe 3')\n",
    "\n",
    "plt.legend(handles=[leg_1, leg_2, leg_3])\n",
    "plt.show()"
   ]
  },
  {
   "cell_type": "markdown",
   "metadata": {},
   "source": [
    "### Comentários\n",
    "Analisando as matrizes de confusão, pudemos perceber que ambos os modelos tiveram mais dificuldade em classificar a classe 2, havendo em média 35 casos que foram classificados erroneamente como percetencentes a classe 1. Por se tratar de modelos que possuem mais facilidade com problemas linearmente separáveis, podemos concluir que tais classes não possuem essa característica. O gráfico dos dados acima corrobora com tal conclusão, pois podemos ver que os elementos da classe 3 são claramente linearmente separáveis dos das classes 1 e 2. Já com relação à separação das classes 1 e 2 o mesmo não se aplica, tornando-se necessário um modelo não-linear."
   ]
  }
 ],
 "metadata": {
  "kernelspec": {
   "display_name": "Python 2",
   "language": "python",
   "name": "python2"
  },
  "language_info": {
   "codemirror_mode": {
    "name": "ipython",
    "version": 2
   },
   "file_extension": ".py",
   "mimetype": "text/x-python",
   "name": "python",
   "nbconvert_exporter": "python",
   "pygments_lexer": "ipython2",
   "version": "2.7.14"
  }
 },
 "nbformat": 4,
 "nbformat_minor": 2
}
