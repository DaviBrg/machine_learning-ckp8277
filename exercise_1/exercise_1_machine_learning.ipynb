{
 "cells": [
  {
   "cell_type": "markdown",
   "metadata": {},
   "source": [
    "# Lista 1 - Aprendizagem Automática\n",
    "\n",
    "**Davi Braga Gomes - 0396905**\n",
    "\n",
    "## 1) Regressão Linear Univariada\n",
    "\n",
    "- Carregue os dados contidos no arquivo _ex1data1.txt_. O arquivo contem 97 linhas e 2 colunas de dados. Cada coluna se refere a uma variável. Neste problema, deve-se desenvolver um modelo onde a variável da coluna 2 será estimada a partir da variável da coluna 1.\n",
    "\n",
    "    - **Apresentar:** Figura com os dados.\n",
    "    - **Comentários**: Um modelo de regressão linear parece ser adequado para os dados em questão? Comente.\n",
    "    \n",
    "\n",
    "\n",
    "- Implemente o algoritmo do gradiente descendente estocástico para encontrar os coeficientes da regressão. Para este algoritmo utilize **α = 0.001** e utilize **1000 épocas** de treinamento. Para cada época de treinamento, calcule o erro quadrático médio (EQM) . Plote o gráfico “épocas x EQM”.\n",
    "\n",
    "    - **Apresentar**: Valor final dos coeficientes e gráfico épocas x EQM.\n",
    "    - **Comentários**: Através do gráfico “épocas x EQM” é possível verificar que o algoritmo está “aprendendo” ? Comente.\n",
    "\n"
   ]
  },
  {
   "cell_type": "markdown",
   "metadata": {},
   "source": [
    "### Carregando os dados do arquivo:"
   ]
  },
  {
   "cell_type": "code",
   "execution_count": 1,
   "metadata": {
    "collapsed": true
   },
   "outputs": [],
   "source": [
    "import numpy as np\n",
    "\n",
    "def load_data(file_name, delimiter_):\n",
    "    return np.genfromtxt(file_name, delimiter = delimiter_)\n",
    "\n",
    "data = load_data('ex1data1.txt', ',')"
   ]
  },
  {
   "cell_type": "markdown",
   "metadata": {},
   "source": [
    "### Figura com os dados:"
   ]
  },
  {
   "cell_type": "code",
   "execution_count": 2,
   "metadata": {},
   "outputs": [
    {
     "data": {
      "image/png": "[encoded data removed]",
      "text/plain": [
       "<matplotlib.figure.Figure at 0x7fb300348290>"
      ]
     },
     "metadata": {},
     "output_type": "display_data"
    }
   ],
   "source": [
    "import matplotlib.pyplot as plt\n",
    "\n",
    "plt.plot(data[:, :-1], data[:, -1], 'o')\n",
    "plt.xlabel('x')\n",
    "plt.ylabel('y')\n",
    "plt.show()"
   ]
  },
  {
   "cell_type": "markdown",
   "metadata": {},
   "source": [
    "### Adequação ao modelo linear:\n",
    "\n",
    "O modelo de regressão linear parece adequado pois, ao observar o gráfico, é possível perceber que há uma considerável correlação positiva entre entre X e Y."
   ]
  },
  {
   "cell_type": "markdown",
   "metadata": {},
   "source": [
    "### Algoritmo do gradiente descendente estocástico e algumas funções auxiliares:"
   ]
  },
  {
   "cell_type": "code",
   "execution_count": 3,
   "metadata": {
    "collapsed": true
   },
   "outputs": [],
   "source": [
    "def get_x(data):\n",
    "    X = data[:, :-1]\n",
    "    m = X.shape[0]\n",
    "    ones = np.ones((m, 1))\n",
    "    return np.concatenate((ones, X), axis = 1)\n",
    "\n",
    "def get_y(data):\n",
    "    y = data[:, -1]\n",
    "    y = np.array([y])\n",
    "    return y.T\n",
    "\n",
    "def cost(X, w, y):\n",
    "    m = X.shape[0]\n",
    "    return (1.0/(2.0*m))*np.sum((X.dot(w) - y)**2)\n",
    "\n",
    "def to_2d(w):\n",
    "    return np.reshape(w, (-1,1))\n",
    "\n",
    "def gradient_descent(data, alpha, n_epochs):\n",
    "    w = np.random.rand(data.shape[1], 1)\n",
    "    costs = []\n",
    "    for i in range(n_epochs):\n",
    "        np.random.shuffle(data)\n",
    "        for i in range(len(data)):\n",
    "            X = get_x(data)\n",
    "            Y = get_y(data)\n",
    "            error = (X[i].dot(w) - Y[i])\n",
    "            w = w - to_2d(alpha*error*X[i])\n",
    "        costs.append(cost(get_x(data), w, get_y(data)))\n",
    "    return (w,costs)\n",
    "\n",
    "(w, costs) = gradient_descent(data, alpha=0.001, n_epochs=1000)"
   ]
  },
  {
   "cell_type": "markdown",
   "metadata": {},
   "source": [
    "### Valores finais dos pesos:"
   ]
  },
  {
   "cell_type": "code",
   "execution_count": 4,
   "metadata": {},
   "outputs": [
    {
     "name": "stdout",
     "output_type": "stream",
     "text": [
      "[[-3.91067511]\n",
      " [ 1.11421353]]\n"
     ]
    }
   ],
   "source": [
    "print w"
   ]
  },
  {
   "cell_type": "markdown",
   "metadata": {},
   "source": [
    "### Gráfico “Epoca x EQM”:"
   ]
  },
  {
   "cell_type": "code",
   "execution_count": 5,
   "metadata": {},
   "outputs": [
    {
     "data": {
      "image/png": "[encoded data removed]",
      "text/plain": [
       "<matplotlib.figure.Figure at 0x7fb2f44be510>"
      ]
     },
     "metadata": {},
     "output_type": "display_data"
    }
   ],
   "source": [
    "plt.plot(list(range(len(costs))), costs)\n",
    "plt.xlabel('Epoca')\n",
    "plt.ylabel('EQM')\n",
    "plt.show()"
   ]
  },
  {
   "cell_type": "markdown",
   "metadata": {},
   "source": [
    "O gráfico possui uma tendência decrescente e mostra que o erro quadrático médio estava acima de 8 na primeira época e que seu valor final ficou abaixo de 4. Portanto, podemos concluir que, apesar de vários picos de piora decorrentes da natureza estocástica do algoritmo, houve sim aprendizado."
   ]
  },
  {
   "cell_type": "markdown",
   "metadata": {},
   "source": [
    "## 2) Regressão Linear Múltipla\n",
    "\n",
    "- Carregue os dados contidos no arquivo _ex1data2.txt_. O arquivo contem 47 linhas e 3 colunas de dados. Cada coluna se refere a uma variável. Neste problema, deve-se desenvolver um modelo onde a variável da coluna 3 será estimada a partir das variáveis das coluna 1 e 2. Os dados apresentados referem-se a um problema de estimação do preço de casas. As variáveis 1 e 2 são a área da casa e o número de quartos, respectivamente. A variável 3 é o preço do imóvel.\n",
    "- Implemente o algoritmo do gradiente descendente estocástico para encontrar os coeficientes da regressão. Para este algoritmo utilize **α = 0.01** e utilize **100 épocas**  de treinamento. Para cada época de treinamento, calcule o erro quadrático médio (EQM) . Plote o gráfico “épocas x EQM”.\n",
    "\n",
    "    - **Apresentar:** Valor final dos coeficientes e gráfico épocas x EQM.\n",
    "    - **Comentários**: Através do gráfico “épocas x EQM” é possível verificar que o algoritmo está “aprendendo” ? Comente.\n",
    "    \n",
    "\n",
    "\n",
    "- Encontre os coeficientes da regressão utilizando o método dos mínimos quadrados.\n",
    "\n",
    "    - **Apresentar**: Valor final dos coeficientes.\n",
    "    - **Comentários**: Os valores obtidos pelos dois métodos são iguais? Comente."
   ]
  },
  {
   "cell_type": "markdown",
   "metadata": {},
   "source": [
    "### Carregando os dados do arquivo:"
   ]
  },
  {
   "cell_type": "code",
   "execution_count": 6,
   "metadata": {
    "collapsed": true
   },
   "outputs": [],
   "source": [
    "data = load_data('ex1data2.txt', ' ')"
   ]
  },
  {
   "cell_type": "markdown",
   "metadata": {},
   "source": [
    "### Rodando o gradiente descendente estocástico:"
   ]
  },
  {
   "cell_type": "code",
   "execution_count": 7,
   "metadata": {
    "collapsed": true
   },
   "outputs": [],
   "source": [
    "(w, costs) = gradient_descent(data, alpha=0.01, n_epochs=100)"
   ]
  },
  {
   "cell_type": "markdown",
   "metadata": {},
   "source": [
    "### Valores finais dos pesos:"
   ]
  },
  {
   "cell_type": "code",
   "execution_count": 8,
   "metadata": {},
   "outputs": [
    {
     "name": "stdout",
     "output_type": "stream",
     "text": [
      "[[ 0.86919375]\n",
      " [ 1.39464644]\n",
      " [-0.08930299]]\n"
     ]
    }
   ],
   "source": [
    "print w"
   ]
  },
  {
   "cell_type": "markdown",
   "metadata": {},
   "source": [
    "### Gráfico “Epoca x EQM”:"
   ]
  },
  {
   "cell_type": "code",
   "execution_count": 9,
   "metadata": {},
   "outputs": [
    {
     "data": {
      "image/png": "[encoded data removed]",
      "text/plain": [
       "<matplotlib.figure.Figure at 0x7fb2f43b3a10>"
      ]
     },
     "metadata": {},
     "output_type": "display_data"
    }
   ],
   "source": [
    "plt.plot(list(range(len(costs))), costs)\n",
    "plt.xlabel('Epoca')\n",
    "plt.ylabel('EQM')\n",
    "plt.show()"
   ]
  },
  {
   "cell_type": "markdown",
   "metadata": {},
   "source": [
    "O gráfico possui uma tendência decrescente e mostra que o erro quadrático médio estava acima de 0.45 na primeira época e que seu valor final ficou próximo de 0.25. Portanto, podemos concluir que, apesar de vários picos de piora decorrentes da natureza estocástica do algoritmo, houve sim aprendizado."
   ]
  },
  {
   "cell_type": "markdown",
   "metadata": {
    "collapsed": true
   },
   "source": [
    "### Econtrando os coeficientes de regressão utilizando os mínimos quadrados:"
   ]
  },
  {
   "cell_type": "code",
   "execution_count": 10,
   "metadata": {},
   "outputs": [
    {
     "name": "stdout",
     "output_type": "stream",
     "text": [
      "[[ 0.8959791 ]\n",
      " [ 1.39210674]\n",
      " [-0.08738019]]\n"
     ]
    }
   ],
   "source": [
    "def min_squares(data):\n",
    "    X = get_x(data)\n",
    "    y = get_y(data)\n",
    "    return np.linalg.inv(X.T.dot(X)).T.dot(X.T.dot(y)) \n",
    "\n",
    "w_min_sqr = min_squares(data)\n",
    "\n",
    "print w_min_sqr"
   ]
  },
  {
   "cell_type": "markdown",
   "metadata": {},
   "source": [
    "### Comparação entre os resultados do gradiente descendente e dos mínimos quadrados:\n",
    "\n",
    "Os valores não são exatamente iguais, mas ficaram muito próximos. O valor obtido por meio do método dos mínimos quadrados é possivelmente mais preciso, pois a sua solução é analítica, muito embora erros númericos possam existir devido ao processo de inversão de matrizes. Outro fator que pode explicar essa diferença é o valor relativamente alto do alpha e um número relativamente baixo de épocas, ambos utilizados no gradiente descendente estocástico. "
   ]
  },
  {
   "cell_type": "markdown",
   "metadata": {},
   "source": [
    "## 3) Regularização\n",
    "\n",
    "- Carregue os dados contidos no arquivo _ex1data3.txt_. O arquivo contem 47 linhas e 6 colunas de dados. Cada coluna se refere a uma variável. Neste problema, deve-se desenvolver um modelo onde a variável da coluna 6 será estimada a partir das demais variáveis. Os dados apresentados referem-se a um problema de estimação do preço de casas. As variáveis 1, 2, 3, 4 e 5 são características dos imóveis e serão utilizadas como entrada do problema de regressão. A variável 6 é o preço do imóvel.\n",
    "- Divida o conjunto de dados entre treino e teste. Para este problema, os primeiros 30 dados serão utilizados para treino e o restante será usado para teste.\n",
    "- Encontre os coeficientes da regressão utilizando o método dos mínimos quadrados regularizado para os seguintes valores de λ = [0 1 2 3 4 5]. Utilize o conjunto de treinamento.\n",
    "\n",
    "    - **Apresentar:** Valores finais dos coeficientes\n",
    "    - **Comentários**: Quais variáveis parecem ser menos relevantes para a regressão?"
   ]
  },
  {
   "cell_type": "markdown",
   "metadata": {},
   "source": [
    "### Apresentando os valores finais para cada coeficiente:"
   ]
  },
  {
   "cell_type": "code",
   "execution_count": 45,
   "metadata": {},
   "outputs": [
    {
     "name": "stdout",
     "output_type": "stream",
     "text": [
      "Valores para o coeficiente 0:\n",
      "[[ 1.03965592]\n",
      " [ 1.51377825]\n",
      " [-0.11134798]\n",
      " [ 0.13844586]\n",
      " [-0.24665123]\n",
      " [-0.0253594 ]]\n",
      "Valores para o coeficiente 1:\n",
      "[[ 0.51074402]\n",
      " [ 1.15397894]\n",
      " [ 0.04982393]\n",
      " [ 0.54313428]\n",
      " [-0.1947382 ]\n",
      " [ 0.11560532]]\n",
      "Valores para o coeficiente 2:\n",
      "[[ 0.38609738]\n",
      " [ 1.03565712]\n",
      " [ 0.11775786]\n",
      " [ 0.49876303]\n",
      " [-0.15295253]\n",
      " [ 0.2054592 ]]\n",
      "Valores para o coeficiente 3:\n",
      "[[ 0.32045973]\n",
      " [ 0.95661025]\n",
      " [ 0.16214838]\n",
      " [ 0.45955462]\n",
      " [-0.11931502]\n",
      " [ 0.25767431]]\n",
      "Valores para o coeficiente 4:\n",
      "[[ 0.27995502]\n",
      " [ 0.89778907]\n",
      " [ 0.19469895]\n",
      " [ 0.42931717]\n",
      " [-0.09133798]\n",
      " [ 0.28986981]]\n",
      "Valores para o coeficiente 5:\n",
      "[[ 0.25271137]\n",
      " [ 0.85147618]\n",
      " [ 0.22015049]\n",
      " [ 0.40562266]\n",
      " [-0.06756256]\n",
      " [ 0.31051539]]\n"
     ]
    }
   ],
   "source": [
    "def min_squares_regularized(data, reg_coef):\n",
    "    X = get_x(data)\n",
    "    y = get_y(data)\n",
    "    gram = X.T.dot(X)\n",
    "    temp = gram + np.identity(len(gram))*reg_coef\n",
    "    return np.linalg.inv(temp).T.dot(X.T.dot(y)) \n",
    "\n",
    "data = load_data('ex1data3.txt', ' ')\n",
    "\n",
    "np.random.shuffle(data)\n",
    "\n",
    "training = data[:31, :]\n",
    "test = data[31:, :]\n",
    "\n",
    "reg_coeficients = [0, 1, 2, 3, 4, 5]\n",
    "\n",
    "for coef in reg_coeficients:\n",
    "    print(\"Valores para o coeficiente {}:\".format(coef))\n",
    "    print(min_squares_regularized(training, coef))"
   ]
  },
  {
   "cell_type": "markdown",
   "metadata": {
    "collapsed": true
   },
   "source": [
    "### Relevância das variáveis para a regressão:\n",
    "\n",
    "Analisando os pesos finais para a regressão com um coeficiente de regularização 5, é possível notas que as vriáveis "
   ]
  },
  {
   "cell_type": "code",
   "execution_count": null,
   "metadata": {
    "collapsed": true
   },
   "outputs": [],
   "source": []
  }
 ],
 "metadata": {
  "kernelspec": {
   "display_name": "Python 2",
   "language": "python",
   "name": "python2"
  },
  "language_info": {
   "codemirror_mode": {
    "name": "ipython",
    "version": 2
   },
   "file_extension": ".py",
   "mimetype": "text/x-python",
   "name": "python",
   "nbconvert_exporter": "python",
   "pygments_lexer": "ipython2",
   "version": "2.7.13"
  }
 },
 "nbformat": 4,
 "nbformat_minor": 2
}
