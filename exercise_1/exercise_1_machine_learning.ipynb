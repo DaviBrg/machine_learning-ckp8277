{
 "cells": [
  {
   "cell_type": "markdown",
   "metadata": {},
   "source": [
    "## Lista 1 - Aprendizagem Automática\n",
    "\n",
    "**Davi Braga Gomes - 0396905**\n",
    "\n",
    "### 1) Regressão Linear Univariada\n",
    "\n",
    "- Carregue os dados contidos no arquivo _ex1data1.txt_. O arquivo contem 97 linhas e 2 colunas de dados. Cada coluna se refere a uma variável. Neste problema, deve-se desenvolver um modelo onde a variável da coluna 2 será estimada a partir da variável da coluna 1.\n",
    "\n",
    "    - **Apresentar:** Figura com os dados.\n",
    "    - **Comentários**: Um modelo de regressão linear parece ser adequado para os dados em questão? Comente.\n",
    "    \n",
    "\n",
    "\n",
    "- Implemente o algoritmo do gradiente descendente estocástico para encontrar os coeficientes da regressão. Para este algoritmo utilize **α = 0.001** e utilize **1000 épocas** de treinamento. Para cada época de treinamento, calcule o erro quadrático médio (EQM) . Plote o gráfico “épocas x EQM”.\n",
    "\n",
    "    - **Apresentar**: Valor final dos coeficientes e gráfico épocas x EQM.\n",
    "    - **Comentários**: Através do gráfico “épocas x EQM” é possível verificar que o algoritmo está “aprendendo” ? Comente.\n",
    "\n"
   ]
  },
  {
   "cell_type": "markdown",
   "metadata": {},
   "source": [
    "### Carregando os dados do arquivo:"
   ]
  },
  {
   "cell_type": "code",
   "execution_count": 1,
   "metadata": {},
   "outputs": [],
   "source": [
    "import numpy as np\n",
    "\n",
    "def load_data(file_name, delimiter_):\n",
    "    return np.genfromtxt(file_name, delimiter = delimiter_)\n",
    "\n",
    "data = load_data('ex1data1.txt', ',')"
   ]
  },
  {
   "cell_type": "markdown",
   "metadata": {},
   "source": [
    "### Figura com os dados:"
   ]
  },
  {
   "cell_type": "code",
   "execution_count": 2,
   "metadata": {},
   "outputs": [
    {
     "data": {
      "image/png": "[encoded data removed]",
      "text/plain": [
       "<matplotlib.figure.Figure at 0x7fc5e2f97150>"
      ]
     },
     "metadata": {},
     "output_type": "display_data"
    }
   ],
   "source": [
    "import matplotlib.pyplot as plt\n",
    "\n",
    "plt.plot(data[:, :-1], data[:, -1], 'o')\n",
    "plt.xlabel('x')\n",
    "plt.ylabel('y')\n",
    "plt.show()"
   ]
  },
  {
   "cell_type": "markdown",
   "metadata": {},
   "source": [
    "### Adequação ao modelo linear:\n",
    "\n",
    "O modelo de regressão linear parece adequado pois, observando o gráfico, é possível perceber que há uma considerável correlação positiva entre entre X e Y."
   ]
  },
  {
   "cell_type": "markdown",
   "metadata": {},
   "source": [
    "### Algoritmo do gradiente descendente estocástico "
   ]
  },
  {
   "cell_type": "code",
   "execution_count": 18,
   "metadata": {},
   "outputs": [],
   "source": [
    "def get_x(data):\n",
    "    X = data[:, :-1]\n",
    "    m = X.shape[0]\n",
    "    ones = np.ones((m, 1))\n",
    "    return np.concatenate((ones, X), axis = 1)\n",
    "\n",
    "def get_y(data):\n",
    "    y = data[:, -1]\n",
    "    y = np.array([y])\n",
    "    return y.T\n",
    "\n",
    "def cost(X, w, y):\n",
    "    m = X.shape[0]\n",
    "    return (1.0/(2.0*m))*np.sum((X.dot(w) - y)**2)\n",
    "\n",
    "def to_2d(w):\n",
    "    return np.reshape(w, (-1,1))\n",
    "\n",
    "def gradient_descent(data, alpha, n_epochs):\n",
    "    w = np.random.rand(data.shape[1], 1)\n",
    "    costs = []\n",
    "    for i in range(n_epochs):\n",
    "        np.random.shuffle(data)\n",
    "        for i in range(len(data)):\n",
    "            X = get_x(data)\n",
    "            Y = get_y(data)\n",
    "            error = (X[i].dot(w) - Y[i])\n",
    "            w = w - to_2d(alpha*error*X[i])\n",
    "        costs.append(cost(get_x(data), w, get_y(data)))\n",
    "    return (w,costs)\n",
    "\n",
    "(w, costs) = gradient_descent(data, 0.001, 1000)"
   ]
  },
  {
   "cell_type": "markdown",
   "metadata": {},
   "source": [
    "### Valores finais dos pesos:"
   ]
  },
  {
   "cell_type": "code",
   "execution_count": 19,
   "metadata": {},
   "outputs": [
    {
     "name": "stdout",
     "output_type": "stream",
     "text": [
      "[[-3.91066478]\n",
      " [ 1.11245383]]\n"
     ]
    }
   ],
   "source": [
    "print w"
   ]
  },
  {
   "cell_type": "markdown",
   "metadata": {},
   "source": [
    "### Gráfico “Epoca x EQM”:"
   ]
  },
  {
   "cell_type": "code",
   "execution_count": 20,
   "metadata": {},
   "outputs": [
    {
     "data": {
      "image/png": "[encoded data removed]",
      "text/plain": [
       "<matplotlib.figure.Figure at 0x7fc5dca3e890>"
      ]
     },
     "metadata": {},
     "output_type": "display_data"
    }
   ],
   "source": [
    "plt.plot(list(range(len(costs))), costs)\n",
    "plt.xlabel('Epoca')\n",
    "plt.ylabel('EQM')\n",
    "plt.show()"
   ]
  },
  {
   "cell_type": "markdown",
   "metadata": {},
   "source": [
    "O gráfico possui uma tendência decrescente e mostra que o erro quadrático médio estava acima de 8 na primeira época e que seu valor final ficou abaixo de 4. Portanto, podemos concluir que, apesar de vários picos de piora decorrentes da natureza estocástica do algoritmo, houve sim aprendizado."
   ]
  },
  {
   "cell_type": "markdown",
   "metadata": {},
   "source": [
    "## 2) Regressão Linear Múltipla\n",
    "\n",
    "- Carregue os dados contidos no arquivo _ex1data2.txt_. O arquivo contem 47 linhas e 3 colunas de dados. Cada coluna se refere a uma variável. Neste problema, deve-se desenvolver um modelo onde a variável da coluna 3 será estimada a partir das variáveis das coluna 1 e 2. Os dados apresentados referem-se a um problema de estimação do preço de casas. As variáveis 1 e 2 são a área da casa e o número de quartos, respectivamente. A variável 3 é o preço do imóvel.\n",
    "- Implemente o algoritmo do gradiente descendente estocástico para encontrar os coeficientes da regressão. Para este algoritmo utilize **α = 0.01** e utilize **100 épocas**  de treinamento. Para cada época de treinamento, calcule o erro quadrático médio (EQM) . Plote o gráfico “épocas x EQM”.\n",
    "\n",
    "    - **Apresentar:** Valor final dos coeficientes e gráfico épocas x EQM.\n",
    "    - **Comentários**: Através do gráfico “épocas x EQM” é possível verificar que o algoritmo está “aprendendo” ? Comente.\n",
    "    \n",
    "\n",
    "\n",
    "- Encontre os coeficientes da regressão utilizando o método dos mínimos quadrados.\n",
    "\n",
    "    - **Apresentar**: Valor final dos coeficientes.\n",
    "    - **Comentários**: Os valores obtidos pelos dois métodos são iguais? Comente."
   ]
  },
  {
   "cell_type": "markdown",
   "metadata": {},
   "source": [
    "### Carregando os dados do arquivo:"
   ]
  },
  {
   "cell_type": "code",
   "execution_count": 21,
   "metadata": {
    "collapsed": true
   },
   "outputs": [],
   "source": [
    "data = load_data('ex1data2.txt', ' ')"
   ]
  },
  {
   "cell_type": "markdown",
   "metadata": {},
   "source": [
    "### Rodando o gradiente descendente estocástico:"
   ]
  },
  {
   "cell_type": "code",
   "execution_count": 42,
   "metadata": {},
   "outputs": [],
   "source": [
    "(w, costs) = gradient_descent(data, 0.01, 100)"
   ]
  },
  {
   "cell_type": "markdown",
   "metadata": {},
   "source": [
    "### Valores finais dos pesos:"
   ]
  },
  {
   "cell_type": "code",
   "execution_count": 43,
   "metadata": {},
   "outputs": [
    {
     "name": "stdout",
     "output_type": "stream",
     "text": [
      "[[ 0.82780972]\n",
      " [ 1.38745975]\n",
      " [-0.04780498]]\n"
     ]
    }
   ],
   "source": [
    "print w"
   ]
  },
  {
   "cell_type": "markdown",
   "metadata": {},
   "source": [
    "### Gráfico “Epoca x EQM”:"
   ]
  },
  {
   "cell_type": "code",
   "execution_count": 44,
   "metadata": {},
   "outputs": [
    {
     "data": {
      "image/png": "[encoded data removed]",
      "text/plain": [
       "<matplotlib.figure.Figure at 0x7fc5dccdda10>"
      ]
     },
     "metadata": {},
     "output_type": "display_data"
    }
   ],
   "source": [
    "plt.plot(list(range(len(costs))), costs)\n",
    "plt.xlabel('Epoca')\n",
    "plt.ylabel('EQM')\n",
    "plt.show()"
   ]
  },
  {
   "cell_type": "markdown",
   "metadata": {},
   "source": [
    "O gráfico possui uma tendência decrescente e mostra que o erro quadrático médio estava acima de 0.45 na primeira época e que seu valor final ficou próximo de 0.25. Portanto, podemos concluir que, apesar de vários picos de piora decorrentes da natureza estocástica do algoritmo, houve sim aprendizado."
   ]
  },
  {
   "cell_type": "code",
   "execution_count": null,
   "metadata": {
    "collapsed": true
   },
   "outputs": [],
   "source": []
  }
 ],
 "metadata": {
  "kernelspec": {
   "display_name": "Python 2",
   "language": "python",
   "name": "python2"
  },
  "language_info": {
   "codemirror_mode": {
    "name": "ipython",
    "version": 2
   },
   "file_extension": ".py",
   "mimetype": "text/x-python",
   "name": "python",
   "nbconvert_exporter": "python",
   "pygments_lexer": "ipython2",
   "version": "2.7.13"
  }
 },
 "nbformat": 4,
 "nbformat_minor": 2
}
